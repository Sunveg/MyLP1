{
 "cells": [
  {
   "cell_type": "code",
   "execution_count": 1,
   "metadata": {
    "colab": {
     "base_uri": "https://localhost:8080/",
     "height": 376
    },
    "id": "X-PG7bCKaIP5",
    "outputId": "c5dd5cd3-79fb-4f28-ec4f-6516f0134e8a"
   },
   "outputs": [
    {
     "name": "stderr",
     "output_type": "stream",
     "text": [
      "[nltk_data] Downloading package stopwords to\n",
      "[nltk_data]     C:\\Users\\visha\\AppData\\Roaming\\nltk_data...\n",
      "[nltk_data]   Package stopwords is already up-to-date!\n",
      "[nltk_data] Downloading package wordnet to\n",
      "[nltk_data]     C:\\Users\\visha\\AppData\\Roaming\\nltk_data...\n",
      "[nltk_data]   Package wordnet is already up-to-date!\n",
      "[nltk_data] Downloading package averaged_perceptron_tagger to\n",
      "[nltk_data]     C:\\Users\\visha\\AppData\\Roaming\\nltk_data...\n",
      "[nltk_data]   Package averaged_perceptron_tagger is already up-to-\n",
      "[nltk_data]       date!\n",
      "[nltk_data] Downloading package punkt to\n",
      "[nltk_data]     C:\\Users\\visha\\AppData\\Roaming\\nltk_data...\n",
      "[nltk_data]   Unzipping tokenizers\\punkt.zip.\n"
     ]
    },
    {
     "name": "stdout",
     "output_type": "stream",
     "text": [
      "{'by', 'there', 'your', 'had', 'he', 've', 'hers', 'a', 'be', 'how', 'she', \"isn't\", 'through', \"should've\", 'them', \"haven't\", 'ain', 'couldn', 'above', 'all', 'were', 'don', 'or', 'while', 'been', 'o', \"shan't\", 'they', 'any', 'myself', 'until', 'd', 'we', 'an', \"won't\", 'now', 'his', 'shan', \"you'll\", 'ours', 'own', 'no', \"it's\", 'why', 'does', 'after', 'off', 'which', 'between', 'for', 'was', \"don't\", 'only', \"needn't\", 'won', 'herself', 'as', 'didn', 'do', 'from', 'and', \"hadn't\", \"you've\", 'll', 'again', 'm', \"doesn't\", \"mightn't\", 't', 'under', 'than', 'ourselves', 'what', 'below', 'can', 'wasn', 'that', 'so', \"you'd\", 're', 'yours', 'further', 'both', 'should', 'this', \"you're\", 'those', 'yourselves', 'here', 'mustn', 'yourself', 'of', 'doing', 'ma', 'but', 'because', 'you', 'same', \"aren't\", \"couldn't\", 'y', 'i', \"hasn't\", 'am', 'hasn', \"shouldn't\", 'weren', 'haven', 'about', 'once', 'isn', 'theirs', 'few', 'our', 'each', 'nor', 'into', 'out', 'aren', \"mustn't\", \"wouldn't\", \"weren't\", 'hadn', 'then', 'other', 's', 'have', 'itself', 'in', 'when', 'over', 'himself', 'doesn', 'him', 'before', 'at', 'shouldn', 'her', 'needn', 'during', \"she's\", 'the', 'it', 'down', 'mightn', 'just', 'is', 'its', 'these', \"wasn't\", 'who', 'are', 'if', 'will', 'very', 'where', 'too', 'being', 'to', 'not', \"didn't\", 'whom', 'wouldn', 'did', 'such', 'up', 'has', 'against', 'having', 'some', 'on', 'me', 'with', 'my', 'themselves', 'more', \"that'll\", 'most', 'their'}\n",
      "['Hello', 'I', 'Atharva', '.', 'I', 'pursuing', 'engineering', 'PICT', '.']\n",
      "['Hello', 'I', 'Atharva', '.', 'I', 'pursuing', 'engineering', 'PICT', '.']\n",
      "Using the default treebank \"en_ewt\" for language \"en\".\n",
      "Would you like to download the models for: en_ewt now? (Y/n)\n",
      "n\n",
      "(S\n",
      "  Hello/NNP\n",
      "  I/PRP\n",
      "  Atharva/NNP\n",
      "  ./.\n",
      "  I/PRP\n",
      "  (VP (V pursuing/VBG) (NP engineering/NN))\n",
      "  PICT/NNP\n",
      "  ./.)\n"
     ]
    }
   ],
   "source": [
    "import nltk\n",
    "\n",
    "nltk.download('stopwords')\n",
    "nltk.download('wordnet')\n",
    "nltk.download('averaged_perceptron_tagger')\n",
    "nltk.download('punkt')\n",
    "    #TOKENIZATION\n",
    "from nltk.tokenize import word_tokenize, sent_tokenize\n",
    "sentence = \"Hello I am Atharva. I am pursuing engineering from PICT.\"\n",
    "sentence_token = sent_tokenize(sentence)\n",
    "word_token = word_tokenize(sentence)\n",
    "\n",
    "#STOP WORDS\n",
    "from nltk.corpus import stopwords\n",
    "stop_words = set(stopwords.words('english'))\n",
    "print(stop_words)\n",
    "\n",
    "filtered_sentence = []\n",
    "\n",
    "for w in word_token:\n",
    "        if w not in stop_words:\n",
    "            filtered_sentence.append(w)\n",
    "        \n",
    "\n",
    "print(filtered_sentence)\n",
    "\n",
    "#STEMMING\n",
    "from nltk.stem import PorterStemmer\n",
    "ps = PorterStemmer() \n",
    "stemmed_sentence = []\n",
    "for w in filtered_sentence:\n",
    "    stemmed_words = (ps.stem(w))\n",
    "    stemmed_sentence.append(stemmed_words)\n",
    "    \n",
    "\n",
    "#LEMMATIZATION\n",
    "from nltk.stem import WordNetLemmatizer\n",
    "lemmatizer = WordNetLemmatizer()\n",
    "\n",
    "lemmatized_sentence = []\n",
    "for w in filtered_sentence:\n",
    "    lemmatized_words = lemmatizer.lemmatize(w)\n",
    "    lemmatized_sentence.append(lemmatized_words)\n",
    "    \n",
    "print(lemmatized_sentence)\n",
    "#PARTS OF SPEECH TAGGING\n",
    "from nltk import pos_tag \n",
    "pos_word = pos_tag(filtered_sentence)\n",
    "\n",
    "\n",
    "#Syntactic parsing is a technique by which segmented, tokenized, and part-of-speech tagged text is \n",
    "# assigned a structure that reveals the relationships between tokens governed by syntax rules,\n",
    "#  e.g. by grammars.\n",
    "\n",
    "\n",
    "import stanfordnlp\n",
    "stanfordnlp.download('en')\n",
    "chunker = nltk.RegexpParser(\"\"\" \n",
    "                       NP: {<DT>?<JJ>*<NN>}    #To extract Noun Phrases \n",
    "                       P: {<IN>}               #To extract Prepositions \n",
    "                       V: {<V.*>}              #To extract Verbs \n",
    "                       PP: {<P> <NP>}          #To extract Prepostional Phrases \n",
    "                       VP: {<V> <NP|PP>*}      #To extarct Verb Phrases \n",
    "                       \"\"\") \n",
    "\n",
    "output = chunker.parse(pos_word) \n",
    "\n",
    "print(output)"
   ]
  },
  {
   "cell_type": "code",
   "execution_count": null,
   "metadata": {},
   "outputs": [],
   "source": []
  }
 ],
 "metadata": {
  "colab": {
   "name": "syntax_analysis.ipynb",
   "provenance": []
  },
  "kernelspec": {
   "display_name": "Python 3",
   "language": "python",
   "name": "python3"
  },
  "language_info": {
   "codemirror_mode": {
    "name": "ipython",
    "version": 3
   },
   "file_extension": ".py",
   "mimetype": "text/x-python",
   "name": "python",
   "nbconvert_exporter": "python",
   "pygments_lexer": "ipython3",
   "version": "3.8.4"
  }
 },
 "nbformat": 4,
 "nbformat_minor": 1
}
